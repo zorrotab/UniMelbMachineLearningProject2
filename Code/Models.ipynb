{
 "cells": [
  {
   "cell_type": "markdown",
   "id": "moving-lying",
   "metadata": {},
   "source": [
    "# Assignment 2 Models Results\n",
    "<b>Name:</b> Justin Aaron Kelley<br>\n",
    "<b>Student ID:</b> 997351<br>\n",
    "<b>Date last modified:</b> 15/05/2021<br>"
   ]
  },
  {
   "cell_type": "code",
   "execution_count": 2,
   "id": "sonic-birmingham",
   "metadata": {},
   "outputs": [],
   "source": [
    "import numpy as np\n",
    "import statsmodels.api as sm\n",
    "import pylab as py\n",
    "import matplotlib.pyplot as plt\n",
    "import pandas as pd\n",
    "from datetime import datetime\n",
    "from scipy.stats import pearsonr\n",
    "from sklearn import tree, neighbors\n",
    "from sklearn.metrics import plot_confusion_matrix\n",
    "from sklearn.linear_model import LogisticRegression\n",
    "from sklearn.model_selection import cross_val_score\n",
    "from sklearn.dummy import DummyClassifier\n",
    "from sklearn.naive_bayes import GaussianNB\n",
    "from sklearn.model_selection import train_test_split\n",
    "from sklearn.feature_selection import mutual_info_classif\n",
    "from sklearn.feature_selection import SelectKBest, chi2"
   ]
  },
  {
   "cell_type": "code",
   "execution_count": 3,
   "id": "drawn-brass",
   "metadata": {},
   "outputs": [],
   "source": [
    "MAX_ITERATIONS = 5000\n",
    "DEFAULT = 5\n",
    "ALL = 1\n",
    "SEPERATOR_MAIN = \"###################################################################\"\n",
    "SEPERATOR = \"*******************************************************************\""
   ]
  },
  {
   "cell_type": "code",
   "execution_count": 4,
   "id": "demonstrated-dispute",
   "metadata": {},
   "outputs": [],
   "source": [
    "def preprocess(inclusion=ALL, validation_set = True):\n",
    "    \"\"\"Takes the raw data for the recipes and the Doc2Vec50 data for them\n",
    "    and combines them into a single database for both the training and test\n",
    "    data.\"\"\"\n",
    "    \n",
    "    # Get the Doc2Vec50 data for training and test data.\n",
    "    trainNameDoc2Vec = pd.read_csv(r\"recipe_text_features_doc2vec50/train_name_doc2vec50.csv\", index_col = False, delimiter = ',', header=None)\n",
    "    trainIngrDoc2Vec = pd.read_csv(r\"recipe_text_features_doc2vec50/train_ingr_doc2vec50.csv\", index_col = False, delimiter = ',', header=None)\n",
    "    trainStepsDoc2Vec = pd.read_csv(r\"recipe_text_features_doc2vec50/train_steps_doc2vec50.csv\", index_col = False, delimiter = ',', header=None)\n",
    "    testNameDoc2Vec = pd.read_csv(r\"recipe_text_features_doc2vec50/test_name_doc2vec50.csv\", index_col = False, delimiter = ',', header=None)\n",
    "    testIngrDoc2Vec = pd.read_csv(r\"recipe_text_features_doc2vec50/test_ingr_doc2vec50.csv\", index_col = False, delimiter = ',', header=None)\n",
    "    testStepsDoc2Vec = pd.read_csv(r\"recipe_text_features_doc2vec50/test_steps_doc2vec50.csv\", index_col = False, delimiter = ',', header=None)\n",
    "    \n",
    "    \n",
    "    # Get raw data for training.\n",
    "    data = pd.read_csv(\"recipe_train.csv\")\n",
    "    trainData = data[[\"n_steps\", \"n_ingredients\"]]\n",
    "    trainLabel = data[\"duration_label\"]\n",
    "\n",
    "    \n",
    "    # Get raw data for testing.\n",
    "    data = pd.read_csv(\"recipe_test.csv\")\n",
    "    testData = data[[\"n_steps\", \"n_ingredients\"]]\n",
    "    \n",
    "    \n",
    "    # Combine data for training and testing. The features used depends on the selection.\n",
    "    # Use all featues by default.\n",
    "    if inclusion == 1:\n",
    "        trainTextDoc2Vec = [trainNameDoc2Vec, trainIngrDoc2Vec, trainStepsDoc2Vec, trainData]\n",
    "        testTextDoc2Vec = [testNameDoc2Vec, testIngrDoc2Vec, testStepsDoc2Vec, testData]\n",
    "    elif inclusion == 2:\n",
    "        trainTextDoc2Vec = [trainStepsDoc2Vec]\n",
    "        testTextDoc2Vec = [testStepsDoc2Vec]\n",
    "    elif inclusion == 3:\n",
    "        trainTextDoc2Vec = [trainStepsDoc2Vec, trainData]\n",
    "        testTextDoc2Vec = [testStepsDoc2Vec, testData]\n",
    "    elif inclusion == 4:\n",
    "        trainTextDoc2Vec = [trainNameDoc2Vec, trainIngrDoc2Vec]\n",
    "        testTextDoc2Vec = [testNameDoc2Vec, testIngrDoc2Vec]\n",
    "    Xtrain = pd.concat(trainTextDoc2Vec, axis=1)\n",
    "    Xtest = pd.concat(testTextDoc2Vec, axis=1)\n",
    "    \n",
    "    \n",
    "    # Convert data to numpy arrays.\n",
    "    Xtrain = Xtrain.to_numpy(dtype=float)\n",
    "    Xtest = Xtest.to_numpy(dtype=float)\n",
    "    ytrain = trainLabel.to_numpy(dtype=int)\n",
    "    \n",
    "\n",
    "    if validation_set:\n",
    "        # Split training set further into an unseen test set and a training set to be\n",
    "        # split into training and validation data.\n",
    "        X_train, X_unseen_test, y_train, y_unseen_test = train_test_split(Xtrain, ytrain, test_size=0.20, random_state=42)\n",
    "\n",
    "        return X_train, y_train, X_unseen_test, y_unseen_test, Xtest  \n",
    "    elif not validation_set:\n",
    "        return Xtrain, ytrain, Xtest  "
   ]
  },
  {
   "cell_type": "code",
   "execution_count": 15,
   "id": "sustained-compact",
   "metadata": {},
   "outputs": [
    {
     "name": "stdout",
     "output_type": "stream",
     "text": [
      "###################################################################\n",
      "Accuracy score is 0.715 with confusion matrix for Logistic Regression:\n"
     ]
    },
    {
     "data": {
      "image/png": "[encoded data removed]",
      "text/plain": [
       "<Figure size 432x288 with 2 Axes>"
      ]
     },
     "metadata": {
      "needs_background": "light"
     },
     "output_type": "display_data"
    },
    {
     "name": "stdout",
     "output_type": "stream",
     "text": [
      "###################################################################\n"
     ]
    }
   ],
   "source": [
    "def Logistic(Xtrain, Xtest, ytrain, ytest, max_iterations=MAX_ITERATIONS):\n",
    "    \"\"\"Uses the Logistic Regression model on the data. Returns the score\n",
    "    and a confusion matrix.\"\"\"\n",
    "    \n",
    "    # Set up model.\n",
    "    clf = LogisticRegression(random_state=0, max_iter = max_iterations).fit(Xtrain, ytrain)\n",
    "    \n",
    "     # Compute score and confusin matrix.\n",
    "    return clf.score(Xtest, ytest), plot_confusion_matrix(clf, Xtest, ytest, normalize = 'true')\n",
    "\n",
    "def runLogistic():\n",
    "    \"\"\"Runs final logistic regression model by itself to show results on unseen test data.\"\"\"\n",
    "    \n",
    "    # Get and process training, test and validation data from files. \n",
    "    Xtrain, ytrain, Xtest, ytest = preprocess()[0:4]\n",
    "    X_train, X_validation, y_train, y_validation = train_test_split(Xtrain, ytrain, test_size=0.33, random_state=42)\n",
    "    \n",
    "    # Run Model.\n",
    "    results = Logistic(X_train, Xtest, y_train, ytest, max_iterations=MAX_ITERATIONS)\n",
    "    \n",
    "    print(SEPERATOR_MAIN)\n",
    "    print(f\"Accuracy score is {results[0]} with confusion matrix for Logistic Regression:\")\n",
    "    plt.title(\"Normalized Confusion matrix\")\n",
    "    plt.show()\n",
    "    print(SEPERATOR_MAIN)\n",
    "\n",
    "runLogistic()"
   ]
  },
  {
   "cell_type": "code",
   "execution_count": 10,
   "id": "circular-humidity",
   "metadata": {},
   "outputs": [
    {
     "name": "stdout",
     "output_type": "stream",
     "text": [
      "0.70175\n",
      "0.70275\n",
      "0.701875\n",
      "0.70175\n",
      "0.701875\n",
      "0.701625\n"
     ]
    }
   ],
   "source": [
    "def GaussianNaiveBayes(Xtrain, Xtest, ytrain, ytest):\n",
    "    \"\"\"Uses the Gaussian Naive Bayes model on the data. Returns the score\n",
    "    and a confusion matrix.\"\"\"\n",
    "    \n",
    "\n",
    "    clf = LogisticRegression(random_state=0, max_iter = 4000).fit(Xtrain, ytrain)\n",
    "    print(clf.score(Xtest, ytest))\n",
    "    \n",
    "    clf = LogisticRegression(random_state=0, max_iter = 4000, C = 0.05).fit(Xtrain, ytrain)\n",
    "    print(clf.score(Xtest, ytest))\n",
    "    \n",
    "    clf = LogisticRegression(random_state=0, max_iter = 4000, C = 0.1).fit(Xtrain, ytrain)\n",
    "    print(clf.score(Xtest, ytest))\n",
    "    \n",
    "    clf = LogisticRegression(random_state=0, max_iter = 4000, C = 0.2).fit(Xtrain, ytrain)\n",
    "    print(clf.score(Xtest, ytest))\n",
    "    \n",
    "    clf = LogisticRegression(random_state=0, max_iter = 4000, C = 0.1).fit(Xtrain, ytrain)\n",
    "    print(clf.score(Xtest, ytest))\n",
    "    \n",
    "    clf = LogisticRegression(random_state=0, max_iter = 4000, C = 5).fit(Xtrain, ytrain)\n",
    "    print(clf.score(Xtest, ytest))\n",
    "\n",
    "def runGNB():\n",
    "    \"\"\"Runs final GNB model by itself to show results on unseen test data.\"\"\"\n",
    "    \n",
    "    # Get and process training, test and validation data from files. \n",
    "    Xtrain, ytrain, Xtest, ytest = preprocess()[0:4]\n",
    "    X_train, X_validation, y_train, y_validation = train_test_split(Xtrain, ytrain, test_size=0.33, random_state=42)\n",
    "    \n",
    "    # Select best k values using mutual information.\n",
    "    mi = SelectKBest(mutual_info_classif, k=30)\n",
    "    X_train_mi = mi.fit_transform(X_train,y_train)\n",
    "    Xtest_mi = mi.transform(Xtest)\n",
    "    \n",
    "    # Run Model.\n",
    "    GaussianNaiveBayes(X_train_mi, Xtest_mi, y_train, ytest)\n",
    "    \n",
    "    #print(SEPERATOR_MAIN)\n",
    "    #print(f\"Accuracy score is {results[0]} with confusion matrix for GNB:\")\n",
    "    #plt.title(\"Normalized Confusion matrix\")\n",
    "    #plt.show()\n",
    "    #print(SEPERATOR_MAIN)\n",
    "\n",
    "runGNB()"
   ]
  },
  {
   "cell_type": "code",
   "execution_count": 16,
   "id": "relative-still",
   "metadata": {},
   "outputs": [
    {
     "name": "stdout",
     "output_type": "stream",
     "text": [
      "###################################################################\n",
      "Accuracy score is 0.687875 with confusion matrix for KNN:\n"
     ]
    },
    {
     "data": {
      "image/png": "[encoded data removed]",
      "text/plain": [
       "<Figure size 432x288 with 2 Axes>"
      ]
     },
     "metadata": {
      "needs_background": "light"
     },
     "output_type": "display_data"
    },
    {
     "name": "stdout",
     "output_type": "stream",
     "text": [
      "###################################################################\n"
     ]
    }
   ],
   "source": [
    "def KNN(Xtrain, Xtest, ytrain, ytest, n_neighbors=DEFAULT, weight=\"distance\", dis_metric=\"minkowski\"):\n",
    "    \"\"\"Uses the K nearest neighbours model on the data. Returns the score\n",
    "    and a confusion matrix.\"\"\"\n",
    "    \n",
    "    # Set up model.\n",
    "    clf = neighbors.KNeighborsClassifier(n_neighbors, weights=weight, metric=dis_metric).fit(Xtrain, ytrain)\n",
    "    \n",
    "    # Compute score and confusin matrix.\n",
    "    return clf.score(Xtest, ytest), plot_confusion_matrix(clf, Xtest, ytest, normalize = 'true')\n",
    "\n",
    "def runKNN():\n",
    "    \"\"\"Runs final KNN model by itself to show results on unseen test data.\"\"\"\n",
    "    \n",
    "    # Get and process training, test and validation data from files. \n",
    "    Xtrain, ytrain, Xtest, ytest = preprocess()[0:4]\n",
    "    X_train, X_validation, y_train, y_validation = train_test_split(Xtrain, ytrain, test_size=0.33, random_state=42)\n",
    "    \n",
    "    # Run Model.\n",
    "    results = KNN(X_train, Xtest, y_train, ytest, n_neighbors=11)\n",
    "    \n",
    "    print(SEPERATOR_MAIN)\n",
    "    print(f\"Accuracy score is {results[0]} with confusion matrix for KNN:\")\n",
    "    plt.title(\"Normalized Confusion matrix\")\n",
    "    plt.show()\n",
    "    print(SEPERATOR_MAIN)\n",
    "\n",
    "runKNN()"
   ]
  },
  {
   "cell_type": "code",
   "execution_count": null,
   "id": "heard-washington",
   "metadata": {},
   "outputs": [],
   "source": []
  }
 ],
 "metadata": {
  "kernelspec": {
   "display_name": "Python 3",
   "language": "python",
   "name": "python3"
  },
  "language_info": {
   "codemirror_mode": {
    "name": "ipython",
    "version": 3
   },
   "file_extension": ".py",
   "mimetype": "text/x-python",
   "name": "python",
   "nbconvert_exporter": "python",
   "pygments_lexer": "ipython3",
   "version": "3.8.6"
  }
 },
 "nbformat": 4,
 "nbformat_minor": 5
}
